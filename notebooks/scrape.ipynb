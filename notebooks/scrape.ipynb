{
 "cells": [
  {
   "cell_type": "code",
   "execution_count": null,
   "id": "8f21bc87",
   "metadata": {},
   "outputs": [],
   "source": [
    "import os\n",
    "\n",
    "os.chdir(\"/Users/willchien/PycharmProjects/funda-scraper\")"
   ]
  },
  {
   "cell_type": "code",
   "execution_count": null,
   "id": "a9d61f90",
   "metadata": {},
   "outputs": [],
   "source": [
    "from funda_scraper.scrape import FundaScraper"
   ]
  },
  {
   "cell_type": "code",
   "execution_count": null,
   "id": "6d81272c",
   "metadata": {},
   "outputs": [],
   "source": [
    "scraper = FundaScraper(area=\"amsterdam\", want_to=\"rent\", find_past=False, n_pages=1)\n",
    "df = scraper.run(raw_data=True)"
   ]
  },
  {
   "cell_type": "code",
   "execution_count": null,
   "id": "4a47e951",
   "metadata": {},
   "outputs": [],
   "source": [
    "df.head()"
   ]
  },
  {
   "cell_type": "code",
   "execution_count": null,
   "id": "cf8c3420",
   "metadata": {},
   "outputs": [],
   "source": [
    "for i in df.listed_since:\n",
    "    try:\n",
    "        clean_list_date(i)\n",
    "    except:\n",
    "        print(i)"
   ]
  },
  {
   "cell_type": "code",
   "execution_count": null,
   "id": "40b33df7",
   "metadata": {},
   "outputs": [],
   "source": [
    "df[\"date_list\"] = df.listed_since.apply(clean_list_date)\n",
    "# df = df[df[\"date_list\"] != \"na\"]\n",
    "# df[\"date_list\"] = pd.to_datetime(df[\"date_list\"])"
   ]
  },
  {
   "cell_type": "code",
   "execution_count": null,
   "id": "8ed20caf",
   "metadata": {},
   "outputs": [],
   "source": [
    "from funda_scraper.preprocess import clean_list_date"
   ]
  },
  {
   "cell_type": "code",
   "execution_count": null,
   "id": "2dbe0b01",
   "metadata": {},
   "outputs": [],
   "source": [
    "df.listed_since"
   ]
  },
  {
   "cell_type": "code",
   "execution_count": null,
   "id": "757dd87a",
   "metadata": {},
   "outputs": [],
   "source": [
    "if __name__ == \"__main__\":\n",
    "    scraper = FundaScraper(area=\"amsterdam\", want_to=\"rent\", find_past=False, n_pages=1)\n",
    "    df = scraper.run()\n",
    "    print(df.head())"
   ]
  }
 ],
 "metadata": {
  "kernelspec": {
   "display_name": "Python 3.8 (daily)",
   "language": "python",
   "name": "daily"
  },
  "language_info": {
   "codemirror_mode": {
    "name": "ipython",
    "version": 3
   },
   "file_extension": ".py",
   "mimetype": "text/x-python",
   "name": "python",
   "nbconvert_exporter": "python",
   "pygments_lexer": "ipython3",
   "version": "3.8.12"
  }
 },
 "nbformat": 4,
 "nbformat_minor": 5
}
